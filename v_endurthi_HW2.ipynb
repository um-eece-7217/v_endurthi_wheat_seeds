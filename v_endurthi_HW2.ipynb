{
  "nbformat": 4,
  "nbformat_minor": 0,
  "metadata": {
    "colab": {
      "provenance": []
    },
    "kernelspec": {
      "name": "python3",
      "display_name": "Python 3"
    },
    "language_info": {
      "name": "python"
    }
  },
  "cells": [
    {
      "cell_type": "code",
      "execution_count": 49,
      "metadata": {
        "id": "joB2cNL2Jr3w"
      },
      "outputs": [],
      "source": [
        "import numpy as np\n",
        "import pandas as pd\n",
        "from sklearn import svm\n",
        "from sklearn.tree import DecisionTreeClassifier\n",
        "from sklearn.linear_model import LogisticRegression\n",
        "from matplotlib.colors import ListedColormap\n",
        "from sklearn.preprocessing import StandardScaler\n",
        "import matplotlib.pyplot as plt\n",
        "from sklearn.impute import SimpleImputer\n",
        "from sklearn.model_selection import train_test_split\n",
        "from sklearn.metrics import accuracy_score\n",
        "from sklearn.tree import plot_tree\n",
        "from mlxtend.plotting import plot_decision_regions"
      ]
    },
    {
      "cell_type": "code",
      "source": [
        "!wget https://archive.ics.uci.edu/ml/machine-learning-databases/00236/seeds_dataset.txt\n",
        "path = '/content/seeds_dataset.txt'\n",
        "features = ['Area','Perimeter','Compactness','Length of kernel',\n",
        "           'Width of kernel','Asymmetry coefficient', 'Length of kernel groove','target']\n",
        "\n",
        "df = pd.read_csv(path, delimiter=r'[\\t]+', header=None, names=features)\n",
        "\n",
        "df.head()"
      ],
      "metadata": {
        "colab": {
          "base_uri": "https://localhost:8080/",
          "height": 548
        },
        "id": "KkHy86_xOPw2",
        "outputId": "fb04bff1-71c7-45a4-d87e-74f73d88d326"
      },
      "execution_count": 50,
      "outputs": [
        {
          "output_type": "stream",
          "name": "stdout",
          "text": [
            "--2023-02-28 04:58:21--  https://archive.ics.uci.edu/ml/machine-learning-databases/00236/seeds_dataset.txt\n",
            "Resolving archive.ics.uci.edu (archive.ics.uci.edu)... 128.195.10.252\n",
            "Connecting to archive.ics.uci.edu (archive.ics.uci.edu)|128.195.10.252|:443... connected.\n",
            "HTTP request sent, awaiting response... 200 OK\n",
            "Length: 9300 (9.1K) [application/x-httpd-php]\n",
            "Saving to: ‘seeds_dataset.txt.1’\n",
            "\n",
            "seeds_dataset.txt.1 100%[===================>]   9.08K  --.-KB/s    in 0s      \n",
            "\n",
            "2023-02-28 04:58:22 (72.7 MB/s) - ‘seeds_dataset.txt.1’ saved [9300/9300]\n",
            "\n"
          ]
        },
        {
          "output_type": "stream",
          "name": "stderr",
          "text": [
            "/usr/local/lib/python3.8/dist-packages/pandas/util/_decorators.py:311: ParserWarning: Falling back to the 'python' engine because the 'c' engine does not support regex separators (separators > 1 char and different from '\\s+' are interpreted as regex); you can avoid this warning by specifying engine='python'.\n",
            "  return func(*args, **kwargs)\n"
          ]
        },
        {
          "output_type": "execute_result",
          "data": {
            "text/plain": [
              "    Area  Perimeter  Compactness  Length of kernel  Width of kernel  \\\n",
              "0  15.26      14.84       0.8710             5.763            3.312   \n",
              "1  14.88      14.57       0.8811             5.554            3.333   \n",
              "2  14.29      14.09       0.9050             5.291            3.337   \n",
              "3  13.84      13.94       0.8955             5.324            3.379   \n",
              "4  16.14      14.99       0.9034             5.658            3.562   \n",
              "\n",
              "   Asymmetry coefficient  Length of kernel groove  target  \n",
              "0                  2.221                    5.220       1  \n",
              "1                  1.018                    4.956       1  \n",
              "2                  2.699                    4.825       1  \n",
              "3                  2.259                    4.805       1  \n",
              "4                  1.355                    5.175       1  "
            ],
            "text/html": [
              "\n",
              "  <div id=\"df-f867888f-7c0c-41cf-968e-5ca826363894\">\n",
              "    <div class=\"colab-df-container\">\n",
              "      <div>\n",
              "<style scoped>\n",
              "    .dataframe tbody tr th:only-of-type {\n",
              "        vertical-align: middle;\n",
              "    }\n",
              "\n",
              "    .dataframe tbody tr th {\n",
              "        vertical-align: top;\n",
              "    }\n",
              "\n",
              "    .dataframe thead th {\n",
              "        text-align: right;\n",
              "    }\n",
              "</style>\n",
              "<table border=\"1\" class=\"dataframe\">\n",
              "  <thead>\n",
              "    <tr style=\"text-align: right;\">\n",
              "      <th></th>\n",
              "      <th>Area</th>\n",
              "      <th>Perimeter</th>\n",
              "      <th>Compactness</th>\n",
              "      <th>Length of kernel</th>\n",
              "      <th>Width of kernel</th>\n",
              "      <th>Asymmetry coefficient</th>\n",
              "      <th>Length of kernel groove</th>\n",
              "      <th>target</th>\n",
              "    </tr>\n",
              "  </thead>\n",
              "  <tbody>\n",
              "    <tr>\n",
              "      <th>0</th>\n",
              "      <td>15.26</td>\n",
              "      <td>14.84</td>\n",
              "      <td>0.8710</td>\n",
              "      <td>5.763</td>\n",
              "      <td>3.312</td>\n",
              "      <td>2.221</td>\n",
              "      <td>5.220</td>\n",
              "      <td>1</td>\n",
              "    </tr>\n",
              "    <tr>\n",
              "      <th>1</th>\n",
              "      <td>14.88</td>\n",
              "      <td>14.57</td>\n",
              "      <td>0.8811</td>\n",
              "      <td>5.554</td>\n",
              "      <td>3.333</td>\n",
              "      <td>1.018</td>\n",
              "      <td>4.956</td>\n",
              "      <td>1</td>\n",
              "    </tr>\n",
              "    <tr>\n",
              "      <th>2</th>\n",
              "      <td>14.29</td>\n",
              "      <td>14.09</td>\n",
              "      <td>0.9050</td>\n",
              "      <td>5.291</td>\n",
              "      <td>3.337</td>\n",
              "      <td>2.699</td>\n",
              "      <td>4.825</td>\n",
              "      <td>1</td>\n",
              "    </tr>\n",
              "    <tr>\n",
              "      <th>3</th>\n",
              "      <td>13.84</td>\n",
              "      <td>13.94</td>\n",
              "      <td>0.8955</td>\n",
              "      <td>5.324</td>\n",
              "      <td>3.379</td>\n",
              "      <td>2.259</td>\n",
              "      <td>4.805</td>\n",
              "      <td>1</td>\n",
              "    </tr>\n",
              "    <tr>\n",
              "      <th>4</th>\n",
              "      <td>16.14</td>\n",
              "      <td>14.99</td>\n",
              "      <td>0.9034</td>\n",
              "      <td>5.658</td>\n",
              "      <td>3.562</td>\n",
              "      <td>1.355</td>\n",
              "      <td>5.175</td>\n",
              "      <td>1</td>\n",
              "    </tr>\n",
              "  </tbody>\n",
              "</table>\n",
              "</div>\n",
              "      <button class=\"colab-df-convert\" onclick=\"convertToInteractive('df-f867888f-7c0c-41cf-968e-5ca826363894')\"\n",
              "              title=\"Convert this dataframe to an interactive table.\"\n",
              "              style=\"display:none;\">\n",
              "        \n",
              "  <svg xmlns=\"http://www.w3.org/2000/svg\" height=\"24px\"viewBox=\"0 0 24 24\"\n",
              "       width=\"24px\">\n",
              "    <path d=\"M0 0h24v24H0V0z\" fill=\"none\"/>\n",
              "    <path d=\"M18.56 5.44l.94 2.06.94-2.06 2.06-.94-2.06-.94-.94-2.06-.94 2.06-2.06.94zm-11 1L8.5 8.5l.94-2.06 2.06-.94-2.06-.94L8.5 2.5l-.94 2.06-2.06.94zm10 10l.94 2.06.94-2.06 2.06-.94-2.06-.94-.94-2.06-.94 2.06-2.06.94z\"/><path d=\"M17.41 7.96l-1.37-1.37c-.4-.4-.92-.59-1.43-.59-.52 0-1.04.2-1.43.59L10.3 9.45l-7.72 7.72c-.78.78-.78 2.05 0 2.83L4 21.41c.39.39.9.59 1.41.59.51 0 1.02-.2 1.41-.59l7.78-7.78 2.81-2.81c.8-.78.8-2.07 0-2.86zM5.41 20L4 18.59l7.72-7.72 1.47 1.35L5.41 20z\"/>\n",
              "  </svg>\n",
              "      </button>\n",
              "      \n",
              "  <style>\n",
              "    .colab-df-container {\n",
              "      display:flex;\n",
              "      flex-wrap:wrap;\n",
              "      gap: 12px;\n",
              "    }\n",
              "\n",
              "    .colab-df-convert {\n",
              "      background-color: #E8F0FE;\n",
              "      border: none;\n",
              "      border-radius: 50%;\n",
              "      cursor: pointer;\n",
              "      display: none;\n",
              "      fill: #1967D2;\n",
              "      height: 32px;\n",
              "      padding: 0 0 0 0;\n",
              "      width: 32px;\n",
              "    }\n",
              "\n",
              "    .colab-df-convert:hover {\n",
              "      background-color: #E2EBFA;\n",
              "      box-shadow: 0px 1px 2px rgba(60, 64, 67, 0.3), 0px 1px 3px 1px rgba(60, 64, 67, 0.15);\n",
              "      fill: #174EA6;\n",
              "    }\n",
              "\n",
              "    [theme=dark] .colab-df-convert {\n",
              "      background-color: #3B4455;\n",
              "      fill: #D2E3FC;\n",
              "    }\n",
              "\n",
              "    [theme=dark] .colab-df-convert:hover {\n",
              "      background-color: #434B5C;\n",
              "      box-shadow: 0px 1px 3px 1px rgba(0, 0, 0, 0.15);\n",
              "      filter: drop-shadow(0px 1px 2px rgba(0, 0, 0, 0.3));\n",
              "      fill: #FFFFFF;\n",
              "    }\n",
              "  </style>\n",
              "\n",
              "      <script>\n",
              "        const buttonEl =\n",
              "          document.querySelector('#df-f867888f-7c0c-41cf-968e-5ca826363894 button.colab-df-convert');\n",
              "        buttonEl.style.display =\n",
              "          google.colab.kernel.accessAllowed ? 'block' : 'none';\n",
              "\n",
              "        async function convertToInteractive(key) {\n",
              "          const element = document.querySelector('#df-f867888f-7c0c-41cf-968e-5ca826363894');\n",
              "          const dataTable =\n",
              "            await google.colab.kernel.invokeFunction('convertToInteractive',\n",
              "                                                     [key], {});\n",
              "          if (!dataTable) return;\n",
              "\n",
              "          const docLinkHtml = 'Like what you see? Visit the ' +\n",
              "            '<a target=\"_blank\" href=https://colab.research.google.com/notebooks/data_table.ipynb>data table notebook</a>'\n",
              "            + ' to learn more about interactive tables.';\n",
              "          element.innerHTML = '';\n",
              "          dataTable['output_type'] = 'display_data';\n",
              "          await google.colab.output.renderOutput(dataTable, element);\n",
              "          const docLink = document.createElement('div');\n",
              "          docLink.innerHTML = docLinkHtml;\n",
              "          element.appendChild(docLink);\n",
              "        }\n",
              "      </script>\n",
              "    </div>\n",
              "  </div>\n",
              "  "
            ]
          },
          "metadata": {},
          "execution_count": 50
        }
      ]
    },
    {
      "cell_type": "code",
      "source": [
        "data=np.loadtxt(\"seeds_dataset.txt\")\n",
        "print(data)\n"
      ],
      "metadata": {
        "colab": {
          "base_uri": "https://localhost:8080/"
        },
        "id": "fp_gllCQN_lJ",
        "outputId": "3c1b7a5e-5c33-4b3b-fcbb-2ba19e2d7e18"
      },
      "execution_count": 51,
      "outputs": [
        {
          "output_type": "stream",
          "name": "stdout",
          "text": [
            "[[15.26   14.84    0.871  ...  2.221   5.22    1.    ]\n",
            " [14.88   14.57    0.8811 ...  1.018   4.956   1.    ]\n",
            " [14.29   14.09    0.905  ...  2.699   4.825   1.    ]\n",
            " ...\n",
            " [13.2    13.66    0.8883 ...  8.315   5.056   3.    ]\n",
            " [11.84   13.21    0.8521 ...  3.598   5.044   3.    ]\n",
            " [12.3    13.34    0.8684 ...  5.637   5.063   3.    ]]\n"
          ]
        }
      ]
    },
    {
      "cell_type": "code",
      "source": [
        "X = df.iloc[:, :-1]\n",
        "y = df.iloc[:, -1]\n",
        "print('Class labels:', np.unique(y))\n",
        "\n",
        "# Print number of instances and features\n",
        "print(\"Number of instances:\", X.shape[0])\n",
        "print(\"Number of features:\", X.shape[1])\n"
      ],
      "metadata": {
        "id": "_ZsQt7ywMjVZ",
        "colab": {
          "base_uri": "https://localhost:8080/"
        },
        "outputId": "0f1c2ddd-027f-4113-8547-cad5c11a8b95"
      },
      "execution_count": 52,
      "outputs": [
        {
          "output_type": "stream",
          "name": "stdout",
          "text": [
            "Class labels: [1 2 3]\n",
            "Number of instances: 210\n",
            "Number of features: 7\n"
          ]
        }
      ]
    },
    {
      "cell_type": "code",
      "source": [
        "X_train, X_test, y_train, y_test = train_test_split(X, y, test_size=0.3, random_state=1, stratify=y)"
      ],
      "metadata": {
        "id": "HOP5oKK1zDlX"
      },
      "execution_count": 53,
      "outputs": []
    },
    {
      "cell_type": "code",
      "source": [
        "def plot_decision_regions(X, y, classifier, test_idx=None, resolution=0.02):\n",
        "    # prepare marker generator and color map\n",
        "    markers = ('s', 'x', 'o', '^', 'v')\n",
        "    colors = ('red', 'blue', 'lightgreen', 'gray', 'cyan')\n",
        "    cmap = ListedColormap(colors[:len(np.unique(y))])\n",
        "\n",
        "    # plot the decision surface\n",
        "    x1_min, x1_max = X[:, 0].min() - 1, X[:, 0].max() + 1\n",
        "    if X.shape[1] > 1:  # check if input array has at least two features\n",
        "        x2_min, x2_max = X[:, 1].min() - 1, X[:, 1].max() + 1\n",
        "    else:\n",
        "        x2_min, x2_max = -1, 1\n",
        "    xx1, xx2 = np.meshgrid(np.arange(x1_min, x1_max, resolution),\n",
        "                           np.arange(x2_min, x2_max, resolution))\n",
        "    if X.shape[1] > 1:  # check if input array has at least two features\n",
        "        Z = classifier.predict(np.array([xx1.ravel(), xx2.ravel()]).T)\n",
        "        Z = Z.reshape(xx1.shape)\n",
        "        plt.contourf(xx1, xx2, Z, alpha=0.3, cmap=cmap)\n",
        "        plt.xlim(xx1.min(), xx1.max())\n",
        "        plt.ylim(xx2.min(), xx2.max())\n",
        "\n",
        "    # plot class samples\n",
        "    for idx, cl in enumerate(np.unique(y)):\n",
        "        plt.scatter(x=X[y == cl, 0], y=X[y == cl, 1],\n",
        "                    alpha=0.8, c=cmap(idx),\n",
        "                    marker=markers[idx], label=cl,\n",
        "                    edgecolor='black')\n",
        "\n",
        "    # highlight test samples\n",
        "    if test_idx:\n",
        "        X_test, y_test = X[test_idx, :], y[test_idx]\n",
        "        plt.scatter(X_test[:, 0], X_test[:, 1], c='', edgecolor='black',\n",
        "                    alpha=1.0, linewidth=1, marker='o',\n",
        "                    s=100, label='test set')"
      ],
      "metadata": {
        "id": "GDq6_urh1Tf_"
      },
      "execution_count": 54,
      "outputs": []
    },
    {
      "cell_type": "code",
      "source": [
        "sc = StandardScaler()\n",
        "X_train_std = pd.DataFrame(sc.fit_transform(X_train),columns=X_train.columns)\n",
        "X_test_std = pd.DataFrame(sc.transform(X_test),columns=X_test.columns)\n",
        "print('Labels counts in y:', np.bincount(y)[1:])\n",
        "print('Labels counts in y_train:', np.bincount(y_train)[1:])\n",
        "print('Labels counts in y_test:', np.bincount(y_test)[1:])"
      ],
      "metadata": {
        "colab": {
          "base_uri": "https://localhost:8080/"
        },
        "id": "l3o0gnIB10CV",
        "outputId": "5fdb77ae-9cc2-4e18-e224-32dc60f45b2c"
      },
      "execution_count": 55,
      "outputs": [
        {
          "output_type": "stream",
          "name": "stdout",
          "text": [
            "Labels counts in y: [70 70 70]\n",
            "Labels counts in y_train: [49 49 49]\n",
            "Labels counts in y_test: [21 21 21]\n"
          ]
        }
      ]
    },
    {
      "cell_type": "markdown",
      "source": [
        "# #randomizer program"
      ],
      "metadata": {
        "id": "WDRULKqV_pkr"
      }
    },
    {
      "cell_type": "code",
      "source": [
        "\n",
        "\n",
        "# Create the SVM model with regularization, maximum margin, and maximum iteration\n",
        "clf = svm.SVC(C=1.0, kernel='linear', max_iter=1000)\n",
        "\n",
        "# Fit the model using the training data\n",
        "clf.fit(X_train, y_train)\n",
        "\n",
        "# Predict the class of the test data\n",
        "Y_pred = clf.predict(X_test)\n",
        "\n",
        "# Print the accuracy of the model\n",
        "accuracy = np.mean(Y_pred == y_test) * 100\n",
        "print(\"Accuracy: {}%\".format(accuracy))"
      ],
      "metadata": {
        "colab": {
          "base_uri": "https://localhost:8080/"
        },
        "id": "1BmPWDQCJard",
        "outputId": "78591443-b87d-465e-8609-65d36e48e6bb"
      },
      "execution_count": 56,
      "outputs": [
        {
          "output_type": "stream",
          "name": "stdout",
          "text": [
            "Accuracy: 92.06349206349206%\n"
          ]
        }
      ]
    },
    {
      "cell_type": "code",
      "source": [
        "# determine the number of cells to randomize\n",
        "num_cells = data.size\n",
        "num_cells_to_randomize = int(num_cells * 0.2)\n",
        "\n",
        "# generate random indices for the cells to randomize\n",
        "random_indices = np.random.choice(num_cells, size=num_cells_to_randomize, replace=False)\n",
        "\n",
        "# create a copy of the original wheat seed array\n",
        "wheat_seed_randomized = np.copy(data)\n",
        "\n",
        "# randomize the selected cells\n",
        "wheat_seed_randomized.flat[random_indices] = np.random.rand(num_cells_to_randomize)\n",
        "\n",
        "# create an imputer object to fill in any missing values\n",
        "imputer = SimpleImputer(missing_values=np.nan, strategy='mean')\n",
        "\n",
        "# impute the missing values in the randomized array\n",
        "wheat_seed_randomized_imputed = imputer.fit_transform(wheat_seed_randomized)\n",
        "\n",
        "# print the original and randomized arrays\n",
        "print(\"Original wheat seed features:\")\n",
        "print(data)\n",
        "print(\"Randomized wheat seed features:\")\n",
        "print(wheat_seed_randomized)\n",
        "print(\"Imputed randomized wheat seed features:\")\n",
        "print(wheat_seed_randomized_imputed)"
      ],
      "metadata": {
        "colab": {
          "base_uri": "https://localhost:8080/"
        },
        "id": "KoiDfoLlJiiO",
        "outputId": "1dae0afb-57e6-4a8f-b13b-76e4ff4ef657"
      },
      "execution_count": 57,
      "outputs": [
        {
          "output_type": "stream",
          "name": "stdout",
          "text": [
            "Original wheat seed features:\n",
            "[[15.26   14.84    0.871  ...  2.221   5.22    1.    ]\n",
            " [14.88   14.57    0.8811 ...  1.018   4.956   1.    ]\n",
            " [14.29   14.09    0.905  ...  2.699   4.825   1.    ]\n",
            " ...\n",
            " [13.2    13.66    0.8883 ...  8.315   5.056   3.    ]\n",
            " [11.84   13.21    0.8521 ...  3.598   5.044   3.    ]\n",
            " [12.3    13.34    0.8684 ...  5.637   5.063   3.    ]]\n",
            "Randomized wheat seed features:\n",
            "[[15.26       14.84        0.67269616 ...  2.221       5.22\n",
            "   0.70641679]\n",
            " [14.88       14.57        0.8811     ...  1.018       4.956\n",
            "   1.        ]\n",
            " [ 0.68855385 14.09        0.70421048 ...  2.699       4.825\n",
            "   0.60302703]\n",
            " ...\n",
            " [13.2        13.66        0.8883     ...  8.315       0.34085419\n",
            "   3.        ]\n",
            " [11.84       13.21        0.54109293 ...  3.598       0.17326534\n",
            "   0.15543769]\n",
            " [12.3        13.34        0.8684     ...  5.637       5.063\n",
            "   3.        ]]\n",
            "Imputed randomized wheat seed features:\n",
            "[[15.26       14.84        0.67269616 ...  2.221       5.22\n",
            "   0.70641679]\n",
            " [14.88       14.57        0.8811     ...  1.018       4.956\n",
            "   1.        ]\n",
            " [ 0.68855385 14.09        0.70421048 ...  2.699       4.825\n",
            "   0.60302703]\n",
            " ...\n",
            " [13.2        13.66        0.8883     ...  8.315       0.34085419\n",
            "   3.        ]\n",
            " [11.84       13.21        0.54109293 ...  3.598       0.17326534\n",
            "   0.15543769]\n",
            " [12.3        13.34        0.8684     ...  5.637       5.063\n",
            "   3.        ]]\n"
          ]
        }
      ]
    },
    {
      "cell_type": "code",
      "source": [
        "# Randomly shuffle a percentage of the wheat seed samples\n",
        "percent_shuffled = 25  # Percentage of samples to shuffle\n",
        "n_samples = df.shape[0]\n",
        "n_shuffled = int(n_samples * percent_shuffled / 100)\n",
        "indices_shuffled = np.random.choice(n_samples, size=n_shuffled, replace=False)\n",
        "df_shuffled = df.copy()\n",
        "df_shuffled.iloc[indices_shuffled, :-1] = np.random.permutation(df_shuffled.iloc[indices_shuffled, :-1].values)"
      ],
      "metadata": {
        "id": "yqdBBOlM89xU"
      },
      "execution_count": 58,
      "outputs": []
    },
    {
      "cell_type": "code",
      "source": [
        "# Plot the original and shuffled data side by side\n",
        "fig, axs = plt.subplots(ncols=2, figsize=(10, 5))\n",
        "axs[0].scatter(df['Length of kernel'], df['Width of kernel'], c=df['target'])\n",
        "axs[0].set_xlabel('Length of kernel')\n",
        "axs[0].set_ylabel('Width of kernel')\n",
        "axs[0].set_title('Original data')\n",
        "axs[1].scatter(df_shuffled['Length of kernel'], df_shuffled['Width of kernel'], c=df_shuffled['target'])\n",
        "axs[1].set_xlabel('Length of kernel')\n",
        "axs[1].set_ylabel('Width of kernel')\n",
        "axs[1].set_title(f'{percent_shuffled}% of samples shuffled')\n",
        "plt.tight_layout()\n",
        "plt.show()"
      ],
      "metadata": {
        "colab": {
          "base_uri": "https://localhost:8080/",
          "height": 336
        },
        "id": "QHeM-1Jc89vF",
        "outputId": "f9032dc1-97a4-4abb-ce2e-42247bbf9cd5"
      },
      "execution_count": 59,
      "outputs": [
        {
          "output_type": "display_data",
          "data": {
            "text/plain": [
              "<Figure size 720x360 with 2 Axes>"
            ],
            "image/png": "[encoded data removed]"
          },
          "metadata": {
            "needs_background": "light"
          }
        }
      ]
    },
    {
      "cell_type": "markdown",
      "source": [
        "### #2.Select a learning algorithm or algorithms and use the imputing solutions from scikit learn to compare results from the unaffected original data."
      ],
      "metadata": {
        "id": "LHGhJtp7_WAT"
      }
    },
    {
      "cell_type": "code",
      "source": [
        "X_train, X_test, y_train, y_test = train_test_split(X, y, test_size=0.3, random_state=1, stratify=y)"
      ],
      "metadata": {
        "id": "CuhKjtl_SiaW"
      },
      "execution_count": 60,
      "outputs": []
    },
    {
      "cell_type": "code",
      "source": [
        "imputer = SimpleImputer(strategy='mean')\n"
      ],
      "metadata": {
        "id": "MDfBB9CwMmYy"
      },
      "execution_count": 61,
      "outputs": []
    },
    {
      "cell_type": "code",
      "source": [
        "# Fit the imputer to the training data\n",
        "imputer.fit(X_train)\n",
        "# Transform the training and testing data\n",
        "X_train_imputed = imputer.fit_transform(X_train)\n",
        "X_test_imputed = imputer.transform(X_test)"
      ],
      "metadata": {
        "id": "6iPhcOoGM15n"
      },
      "execution_count": 62,
      "outputs": []
    },
    {
      "cell_type": "code",
      "source": [
        "lr = LogisticRegression(multi_class='ovr', random_state=1, solver='lbfgs')\n",
        "lr = lr.fit(X_train_imputed[:, :2], y_train.values)"
      ],
      "metadata": {
        "id": "T2fBJeNmM5Dm"
      },
      "execution_count": 63,
      "outputs": []
    },
    {
      "cell_type": "code",
      "source": [
        "plot_decision_regions(X_train_imputed[:, :2], y_train.values, classifier=lr)\n",
        "plt.xlabel('feature 0')\n",
        "plt.ylabel('feature 1')\n",
        "plt.axis('tight')\n",
        "plt.legend(loc='lower left')\n",
        "plt.tight_layout()\n",
        "plt.show()"
      ],
      "metadata": {
        "colab": {
          "base_uri": "https://localhost:8080/",
          "height": 404
        },
        "id": "PlMi1DPk25N1",
        "outputId": "8b79572c-ad26-4bea-b932-bea2b020c301"
      },
      "execution_count": 64,
      "outputs": [
        {
          "output_type": "stream",
          "name": "stderr",
          "text": [
            "WARNING:matplotlib.axes._axes:*c* argument looks like a single numeric RGB or RGBA sequence, which should be avoided as value-mapping will have precedence in case its length matches with *x* & *y*.  Please use the *color* keyword-argument or provide a 2D array with a single row if you intend to specify the same RGB or RGBA value for all points.\n",
            "WARNING:matplotlib.axes._axes:*c* argument looks like a single numeric RGB or RGBA sequence, which should be avoided as value-mapping will have precedence in case its length matches with *x* & *y*.  Please use the *color* keyword-argument or provide a 2D array with a single row if you intend to specify the same RGB or RGBA value for all points.\n",
            "<ipython-input-54-1900c9d837c7>:24: UserWarning: You passed a edgecolor/edgecolors ('black') for an unfilled marker ('x').  Matplotlib is ignoring the edgecolor in favor of the facecolor.  This behavior may change in the future.\n",
            "  plt.scatter(x=X[y == cl, 0], y=X[y == cl, 1],\n",
            "WARNING:matplotlib.axes._axes:*c* argument looks like a single numeric RGB or RGBA sequence, which should be avoided as value-mapping will have precedence in case its length matches with *x* & *y*.  Please use the *color* keyword-argument or provide a 2D array with a single row if you intend to specify the same RGB or RGBA value for all points.\n"
          ]
        },
        {
          "output_type": "display_data",
          "data": {
            "text/plain": [
              "<Figure size 432x288 with 1 Axes>"
            ],
            "image/png": "[encoded data removed]"
          },
          "metadata": {
            "needs_background": "light"
          }
        }
      ]
    },
    {
      "cell_type": "code",
      "source": [
        "lr = LogisticRegression(multi_class='ovr', random_state=1, solver='lbfgs')\n",
        "lr = lr.fit(X_test_imputed[:, :2], y_test.values)"
      ],
      "metadata": {
        "id": "4XNNRzFE6oVN"
      },
      "execution_count": 65,
      "outputs": []
    },
    {
      "cell_type": "code",
      "source": [
        "plot_decision_regions(X_test_imputed[:, :2], y_test.values, classifier=lr)\n",
        "plt.xlabel('feature 0')\n",
        "plt.ylabel('feature 1')\n",
        "plt.axis('tight')\n",
        "plt.legend(loc='lower left')\n",
        "plt.tight_layout()\n",
        "plt.show()"
      ],
      "metadata": {
        "colab": {
          "base_uri": "https://localhost:8080/",
          "height": 404
        },
        "id": "x6-EsHCg6spy",
        "outputId": "6d76da4e-d727-4df8-c861-9f9931c2fc6d"
      },
      "execution_count": 66,
      "outputs": [
        {
          "output_type": "stream",
          "name": "stderr",
          "text": [
            "WARNING:matplotlib.axes._axes:*c* argument looks like a single numeric RGB or RGBA sequence, which should be avoided as value-mapping will have precedence in case its length matches with *x* & *y*.  Please use the *color* keyword-argument or provide a 2D array with a single row if you intend to specify the same RGB or RGBA value for all points.\n",
            "WARNING:matplotlib.axes._axes:*c* argument looks like a single numeric RGB or RGBA sequence, which should be avoided as value-mapping will have precedence in case its length matches with *x* & *y*.  Please use the *color* keyword-argument or provide a 2D array with a single row if you intend to specify the same RGB or RGBA value for all points.\n",
            "<ipython-input-54-1900c9d837c7>:24: UserWarning: You passed a edgecolor/edgecolors ('black') for an unfilled marker ('x').  Matplotlib is ignoring the edgecolor in favor of the facecolor.  This behavior may change in the future.\n",
            "  plt.scatter(x=X[y == cl, 0], y=X[y == cl, 1],\n",
            "WARNING:matplotlib.axes._axes:*c* argument looks like a single numeric RGB or RGBA sequence, which should be avoided as value-mapping will have precedence in case its length matches with *x* & *y*.  Please use the *color* keyword-argument or provide a 2D array with a single row if you intend to specify the same RGB or RGBA value for all points.\n"
          ]
        },
        {
          "output_type": "display_data",
          "data": {
            "text/plain": [
              "<Figure size 432x288 with 1 Axes>"
            ],
            "image/png": "[encoded data removed]"
          },
          "metadata": {
            "needs_background": "light"
          }
        }
      ]
    },
    {
      "cell_type": "code",
      "source": [
        "# Make predictions on the imputed testing data\n",
        "y_pred_imputed = lr.predict(X_test_imputed[:, :2])\n",
        "\n",
        "# Calculate the accuracy of the model on the imputed testing data\n",
        "accuracy_imputed = accuracy_score(y_test, y_pred_imputed)\n",
        "print(\"accuracy= \",accuracy_imputed)"
      ],
      "metadata": {
        "id": "1bRs2cN9M9t5",
        "colab": {
          "base_uri": "https://localhost:8080/"
        },
        "outputId": "ef1caef7-6eff-4111-abed-58ce6cd61bdb"
      },
      "execution_count": 67,
      "outputs": [
        {
          "output_type": "stream",
          "name": "stdout",
          "text": [
            "accuracy=  0.8888888888888888\n"
          ]
        }
      ]
    },
    {
      "cell_type": "code",
      "source": [
        "lr = LogisticRegression(multi_class='ovr', random_state=1, solver='lbfgs')\n",
        "lr = lr.fit(X_train.values[:,:2], y_train.values)"
      ],
      "metadata": {
        "id": "5zHf4B9-M__I"
      },
      "execution_count": 68,
      "outputs": []
    },
    {
      "cell_type": "code",
      "source": [
        "plot_decision_regions(X_train.values[:,:2], y_train.values, classifier=lr)\n",
        "plt.xlabel('feature 0')\n",
        "plt.ylabel('feature 1')\n",
        "plt.axis('tight')\n",
        "plt.legend(loc='lower left')\n",
        "plt.tight_layout()\n",
        "plt.show()"
      ],
      "metadata": {
        "colab": {
          "base_uri": "https://localhost:8080/",
          "height": 404
        },
        "id": "SRK1dzPC7V-6",
        "outputId": "f024b821-cf1d-4f65-8afa-49799e18d4c8"
      },
      "execution_count": 69,
      "outputs": [
        {
          "output_type": "stream",
          "name": "stderr",
          "text": [
            "WARNING:matplotlib.axes._axes:*c* argument looks like a single numeric RGB or RGBA sequence, which should be avoided as value-mapping will have precedence in case its length matches with *x* & *y*.  Please use the *color* keyword-argument or provide a 2D array with a single row if you intend to specify the same RGB or RGBA value for all points.\n",
            "WARNING:matplotlib.axes._axes:*c* argument looks like a single numeric RGB or RGBA sequence, which should be avoided as value-mapping will have precedence in case its length matches with *x* & *y*.  Please use the *color* keyword-argument or provide a 2D array with a single row if you intend to specify the same RGB or RGBA value for all points.\n",
            "<ipython-input-54-1900c9d837c7>:24: UserWarning: You passed a edgecolor/edgecolors ('black') for an unfilled marker ('x').  Matplotlib is ignoring the edgecolor in favor of the facecolor.  This behavior may change in the future.\n",
            "  plt.scatter(x=X[y == cl, 0], y=X[y == cl, 1],\n",
            "WARNING:matplotlib.axes._axes:*c* argument looks like a single numeric RGB or RGBA sequence, which should be avoided as value-mapping will have precedence in case its length matches with *x* & *y*.  Please use the *color* keyword-argument or provide a 2D array with a single row if you intend to specify the same RGB or RGBA value for all points.\n"
          ]
        },
        {
          "output_type": "display_data",
          "data": {
            "text/plain": [
              "<Figure size 432x288 with 1 Axes>"
            ],
            "image/png": "[encoded data removed]"
          },
          "metadata": {
            "needs_background": "light"
          }
        }
      ]
    },
    {
      "cell_type": "code",
      "source": [
        "lr = LogisticRegression(multi_class='ovr', random_state=1, solver='lbfgs')\n",
        "lr = lr.fit(X_test.values[:,:2], y_test.values)"
      ],
      "metadata": {
        "id": "LLeisOsN8YXC"
      },
      "execution_count": 70,
      "outputs": []
    },
    {
      "cell_type": "code",
      "source": [
        "plot_decision_regions(X_test.values[:, :2], y_test.values, classifier=lr)\n",
        "plt.xlabel('feature 0')\n",
        "plt.ylabel('feature 1')\n",
        "plt.axis('tight')\n",
        "plt.legend(loc='lower left')\n",
        "plt.tight_layout()\n",
        "plt.show()"
      ],
      "metadata": {
        "colab": {
          "base_uri": "https://localhost:8080/",
          "height": 404
        },
        "id": "RnF2Qbyp8ZQK",
        "outputId": "0cd32ec5-fde8-44b8-fdad-7ec19792cb1d"
      },
      "execution_count": 71,
      "outputs": [
        {
          "output_type": "stream",
          "name": "stderr",
          "text": [
            "WARNING:matplotlib.axes._axes:*c* argument looks like a single numeric RGB or RGBA sequence, which should be avoided as value-mapping will have precedence in case its length matches with *x* & *y*.  Please use the *color* keyword-argument or provide a 2D array with a single row if you intend to specify the same RGB or RGBA value for all points.\n",
            "WARNING:matplotlib.axes._axes:*c* argument looks like a single numeric RGB or RGBA sequence, which should be avoided as value-mapping will have precedence in case its length matches with *x* & *y*.  Please use the *color* keyword-argument or provide a 2D array with a single row if you intend to specify the same RGB or RGBA value for all points.\n",
            "<ipython-input-54-1900c9d837c7>:24: UserWarning: You passed a edgecolor/edgecolors ('black') for an unfilled marker ('x').  Matplotlib is ignoring the edgecolor in favor of the facecolor.  This behavior may change in the future.\n",
            "  plt.scatter(x=X[y == cl, 0], y=X[y == cl, 1],\n",
            "WARNING:matplotlib.axes._axes:*c* argument looks like a single numeric RGB or RGBA sequence, which should be avoided as value-mapping will have precedence in case its length matches with *x* & *y*.  Please use the *color* keyword-argument or provide a 2D array with a single row if you intend to specify the same RGB or RGBA value for all points.\n"
          ]
        },
        {
          "output_type": "display_data",
          "data": {
            "text/plain": [
              "<Figure size 432x288 with 1 Axes>"
            ],
            "image/png": "[encoded data removed]"
          },
          "metadata": {
            "needs_background": "light"
          }
        }
      ]
    },
    {
      "cell_type": "code",
      "source": [
        "# Make predictions on the original testing data\n",
        "y_pred_orig = lr.predict(X_test.values[:,:2])\n",
        "\n",
        "# Calculate the accuracy of the model on the original testing data\n",
        "accuracy_orig = accuracy_score(y_test, y_pred_orig)"
      ],
      "metadata": {
        "id": "amgS7kWB7M9V"
      },
      "execution_count": 72,
      "outputs": []
    },
    {
      "cell_type": "code",
      "source": [
        "# Compare the accuracies of the two models\n",
        "print('Accuracy with imputed data:', accuracy_imputed)\n",
        "print('Accuracy with original data:', accuracy_orig)"
      ],
      "metadata": {
        "colab": {
          "base_uri": "https://localhost:8080/"
        },
        "id": "g9NRL2-V7HY1",
        "outputId": "79899c65-7c70-4579-c416-b756ac63897a"
      },
      "execution_count": 73,
      "outputs": [
        {
          "output_type": "stream",
          "name": "stdout",
          "text": [
            "Accuracy with imputed data: 0.8888888888888888\n",
            "Accuracy with original data: 0.8888888888888888\n"
          ]
        }
      ]
    },
    {
      "cell_type": "code",
      "source": [
        "data=np.loadtxt(\"seeds_dataset.txt\")\n",
        "print(data)\n",
        "     "
      ],
      "metadata": {
        "colab": {
          "base_uri": "https://localhost:8080/"
        },
        "id": "B-4Al-eaV1cx",
        "outputId": "d7e107a8-e862-4039-d2b3-5cbe2a7cdbcb"
      },
      "execution_count": 74,
      "outputs": [
        {
          "output_type": "stream",
          "name": "stdout",
          "text": [
            "[[15.26   14.84    0.871  ...  2.221   5.22    1.    ]\n",
            " [14.88   14.57    0.8811 ...  1.018   4.956   1.    ]\n",
            " [14.29   14.09    0.905  ...  2.699   4.825   1.    ]\n",
            " ...\n",
            " [13.2    13.66    0.8883 ...  8.315   5.056   3.    ]\n",
            " [11.84   13.21    0.8521 ...  3.598   5.044   3.    ]\n",
            " [12.3    13.34    0.8684 ...  5.637   5.063   3.    ]]\n"
          ]
        }
      ]
    },
    {
      "cell_type": "code",
      "source": [
        "# check for missing values\n",
        "print(np.isnan(data).sum())"
      ],
      "metadata": {
        "colab": {
          "base_uri": "https://localhost:8080/"
        },
        "id": "v1BvXIPkVxIx",
        "outputId": "45a2ed28-2e23-48ce-a56f-f3140f01d2bf"
      },
      "execution_count": 75,
      "outputs": [
        {
          "output_type": "stream",
          "name": "stdout",
          "text": [
            "0\n"
          ]
        }
      ]
    },
    {
      "cell_type": "markdown",
      "source": [
        "manipulating the data with 10% of cells and replacing it with NaN "
      ],
      "metadata": {
        "id": "MEdbLpXKY6oW"
      }
    },
    {
      "cell_type": "code",
      "source": [
        "# get the number of rows and columns of the data\n",
        "n_rows, n_cols = X.shape\n",
        "# randomly select 10% of cells and replace with NaN\n",
        "n_rows, n_cols = X.shape\n",
        "n_cells = int(n_rows * n_cols * 0.1) # 10% of cells\n",
        "indices = np.random.choice(n_rows*n_cols, n_cells, replace=False)\n",
        "row_indices = indices // n_cols\n",
        "col_indices = indices % n_cols\n",
        "X.values[row_indices, col_indices] = np.nan"
      ],
      "metadata": {
        "id": "NaZK_sZhWiX_"
      },
      "execution_count": 79,
      "outputs": []
    },
    {
      "cell_type": "code",
      "source": [
        "# print the NaN values\n",
        "print(X.isna().sum())"
      ],
      "metadata": {
        "colab": {
          "base_uri": "https://localhost:8080/"
        },
        "id": "mIKmwMsfX76_",
        "outputId": "bcf7d0e0-f306-4583-fa66-e3b5904e6f85"
      },
      "execution_count": 80,
      "outputs": [
        {
          "output_type": "stream",
          "name": "stdout",
          "text": [
            "Area                       19\n",
            "Perimeter                  16\n",
            "Compactness                27\n",
            "Length of kernel           15\n",
            "Width of kernel            20\n",
            "Asymmetry coefficient      26\n",
            "Length of kernel groove    24\n",
            "dtype: int64\n"
          ]
        }
      ]
    },
    {
      "cell_type": "code",
      "source": [
        "# print the manipulated data\n",
        "print(X.head(10))"
      ],
      "metadata": {
        "colab": {
          "base_uri": "https://localhost:8080/"
        },
        "id": "ekDM5Q4GX9Ez",
        "outputId": "11d269de-ecab-4562-cb36-b79f29960b5e"
      },
      "execution_count": 81,
      "outputs": [
        {
          "output_type": "stream",
          "name": "stdout",
          "text": [
            "    Area  Perimeter  Compactness  Length of kernel  Width of kernel  \\\n",
            "0  15.26      14.84       0.8710             5.763            3.312   \n",
            "1  14.88      14.57       0.8811               NaN            3.333   \n",
            "2  14.29      14.09       0.9050             5.291            3.337   \n",
            "3  13.84      13.94       0.8955             5.324            3.379   \n",
            "4  16.14      14.99       0.9034               NaN            3.562   \n",
            "5  14.38      14.21       0.8951               NaN            3.312   \n",
            "6  14.69      14.49       0.8799             5.563            3.259   \n",
            "7  14.11      14.10       0.8911             5.420              NaN   \n",
            "8  16.63      15.46       0.8747             6.053              NaN   \n",
            "9  16.44      15.25       0.8880             5.884            3.505   \n",
            "\n",
            "   Asymmetry coefficient  Length of kernel groove  \n",
            "0                  2.221                    5.220  \n",
            "1                  1.018                    4.956  \n",
            "2                  2.699                    4.825  \n",
            "3                  2.259                    4.805  \n",
            "4                  1.355                    5.175  \n",
            "5                    NaN                    4.956  \n",
            "6                  3.586                    5.219  \n",
            "7                  2.700                    5.000  \n",
            "8                  2.040                    5.877  \n",
            "9                  1.969                    5.533  \n"
          ]
        }
      ]
    },
    {
      "cell_type": "markdown",
      "source": [
        "NaN values replaced with mean imputer"
      ],
      "metadata": {
        "id": "-JYxc8dqYkg9"
      }
    },
    {
      "cell_type": "code",
      "source": [
        "\n",
        "X_imputed = imputer.fit_transform(X)\n",
        "\n",
        "\n",
        "print('Number of NaN values before imputation:\\n', np.isnan(X).sum())\n",
        "print('Number of NaN values after imputation:', np.isnan(X_imputed).sum())\n",
        "\n",
        "print(X_imputed[:10])"
      ],
      "metadata": {
        "colab": {
          "base_uri": "https://localhost:8080/"
        },
        "id": "5_QWbH4SYbr3",
        "outputId": "66b84df7-aa0f-4ae0-939f-b4c46509db56"
      },
      "execution_count": 83,
      "outputs": [
        {
          "output_type": "stream",
          "name": "stdout",
          "text": [
            "Number of NaN values before imputation:\n",
            " Area                       19\n",
            "Perimeter                  16\n",
            "Compactness                27\n",
            "Length of kernel           15\n",
            "Width of kernel            20\n",
            "Asymmetry coefficient      26\n",
            "Length of kernel groove    24\n",
            "dtype: int64\n",
            "Number of NaN values after imputation: 0\n",
            "[[15.26       14.84        0.871       5.763       3.312       2.221\n",
            "   5.22      ]\n",
            " [14.88       14.57        0.8811      5.61346154  3.333       1.018\n",
            "   4.956     ]\n",
            " [14.29       14.09        0.905       5.291       3.337       2.699\n",
            "   4.825     ]\n",
            " [13.84       13.94        0.8955      5.324       3.379       2.259\n",
            "   4.805     ]\n",
            " [16.14       14.99        0.9034      5.61346154  3.562       1.355\n",
            "   5.175     ]\n",
            " [14.38       14.21        0.8951      5.61346154  3.312       3.69477772\n",
            "   4.956     ]\n",
            " [14.69       14.49        0.8799      5.563       3.259       3.586\n",
            "   5.219     ]\n",
            " [14.11       14.1         0.8911      5.42        3.26227895  2.7\n",
            "   5.        ]\n",
            " [16.63       15.46        0.8747      6.053       3.26227895  2.04\n",
            "   5.877     ]\n",
            " [16.44       15.25        0.888       5.884       3.505       1.969\n",
            "   5.533     ]]\n"
          ]
        }
      ]
    }
  ]
}