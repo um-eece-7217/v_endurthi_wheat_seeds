{
  "nbformat": 4,
  "nbformat_minor": 0,
  "metadata": {
    "colab": {
      "provenance": []
    },
    "kernelspec": {
      "name": "python3",
      "display_name": "Python 3"
    },
    "language_info": {
      "name": "python"
    }
  },
  "cells": [
    {
      "cell_type": "markdown",
      "source": [
        "Importing Packages"
      ],
      "metadata": {
        "id": "A_KWRcQBTl7c"
      }
    },
    {
      "cell_type": "code",
      "execution_count": 23,
      "metadata": {
        "id": "5yRFAq1l1HCu"
      },
      "outputs": [],
      "source": [
        "import sys\n",
        "from sklearn import datasets\n",
        "import numpy as np\n",
        "import pandas as pd\n",
        "from sklearn.model_selection import train_test_split\n",
        "from sklearn.preprocessing import StandardScaler\n",
        "from sklearn.linear_model import Perceptron\n",
        "from sklearn.metrics import accuracy_score\n",
        "from matplotlib.colors import ListedColormap\n",
        "import matplotlib.pyplot as plt\n",
        "import matplotlib\n",
        "from distutils.version import LooseVersion\n",
        "from sklearn.linear_model import LogisticRegression\n",
        "from sklearn.svm import SVC\n",
        "from sklearn.linear_model import SGDClassifier\n",
        "from sklearn.tree import DecisionTreeClassifier\n",
        "from sklearn import tree\n",
        "from sklearn.ensemble import RandomForestClassifier\n",
        "from sklearn.neighbors import KNeighborsClassifier"
      ]
    },
    {
      "cell_type": "markdown",
      "source": [
        "Extracting data and Creating path  "
      ],
      "metadata": {
        "id": "uEc51nVITqve"
      }
    },
    {
      "cell_type": "code",
      "source": [
        "!wget https://archive.ics.uci.edu/ml/machine-learning-databases/00236/seeds_dataset.txt\n",
        "path = '/content/seeds_dataset.txt'"
      ],
      "metadata": {
        "id": "0ORNfdQv1K36",
        "colab": {
          "base_uri": "https://localhost:8080/",
          "height": 0
        },
        "outputId": "f593ab1b-4a6d-48f5-8baf-56d18c71c6ef"
      },
      "execution_count": 24,
      "outputs": [
        {
          "output_type": "stream",
          "name": "stdout",
          "text": [
            "--2023-02-22 08:39:14--  https://archive.ics.uci.edu/ml/machine-learning-databases/00236/seeds_dataset.txt\n",
            "Resolving archive.ics.uci.edu (archive.ics.uci.edu)... 128.195.10.252\n",
            "Connecting to archive.ics.uci.edu (archive.ics.uci.edu)|128.195.10.252|:443... connected.\n",
            "HTTP request sent, awaiting response... 200 OK\n",
            "Length: 9300 (9.1K) [application/x-httpd-php]\n",
            "Saving to: ‘seeds_dataset.txt.1’\n",
            "\n",
            "seeds_dataset.txt.1 100%[===================>]   9.08K  --.-KB/s    in 0s      \n",
            "\n",
            "2023-02-22 08:39:14 (77.3 MB/s) - ‘seeds_dataset.txt.1’ saved [9300/9300]\n",
            "\n"
          ]
        }
      ]
    },
    {
      "cell_type": "code",
      "source": [
        "print('From local path:', path)\n",
        "headings = [\"Area\",\"Perimeter\",\"Compactness\",\"Length\",\"Width\",\"Asymmetry\",\"Groove\",\"Class\"]\n",
        "\n",
        "df = pd.read_csv(path, delimiter=r'[\\t]+',\n",
        "                 names = headings )\n",
        "df.head()"
      ],
      "metadata": {
        "id": "Xb0ksjN01MsH",
        "colab": {
          "base_uri": "https://localhost:8080/",
          "height": 278
        },
        "outputId": "148bc13d-a91f-447e-c106-66ff9c4e1194"
      },
      "execution_count": 25,
      "outputs": [
        {
          "output_type": "stream",
          "name": "stdout",
          "text": [
            "From local path: /content/seeds_dataset.txt\n"
          ]
        },
        {
          "output_type": "stream",
          "name": "stderr",
          "text": [
            "/usr/local/lib/python3.8/dist-packages/pandas/util/_decorators.py:311: ParserWarning: Falling back to the 'python' engine because the 'c' engine does not support regex separators (separators > 1 char and different from '\\s+' are interpreted as regex); you can avoid this warning by specifying engine='python'.\n",
            "  return func(*args, **kwargs)\n"
          ]
        },
        {
          "output_type": "execute_result",
          "data": {
            "text/plain": [
              "    Area  Perimeter  Compactness  Length  Width  Asymmetry  Groove  Class\n",
              "0  15.26      14.84       0.8710   5.763  3.312      2.221   5.220      1\n",
              "1  14.88      14.57       0.8811   5.554  3.333      1.018   4.956      1\n",
              "2  14.29      14.09       0.9050   5.291  3.337      2.699   4.825      1\n",
              "3  13.84      13.94       0.8955   5.324  3.379      2.259   4.805      1\n",
              "4  16.14      14.99       0.9034   5.658  3.562      1.355   5.175      1"
            ],
            "text/html": [
              "\n",
              "  <div id=\"df-a90d2682-aca6-4a6d-a7a6-e1154f450a27\">\n",
              "    <div class=\"colab-df-container\">\n",
              "      <div>\n",
              "<style scoped>\n",
              "    .dataframe tbody tr th:only-of-type {\n",
              "        vertical-align: middle;\n",
              "    }\n",
              "\n",
              "    .dataframe tbody tr th {\n",
              "        vertical-align: top;\n",
              "    }\n",
              "\n",
              "    .dataframe thead th {\n",
              "        text-align: right;\n",
              "    }\n",
              "</style>\n",
              "<table border=\"1\" class=\"dataframe\">\n",
              "  <thead>\n",
              "    <tr style=\"text-align: right;\">\n",
              "      <th></th>\n",
              "      <th>Area</th>\n",
              "      <th>Perimeter</th>\n",
              "      <th>Compactness</th>\n",
              "      <th>Length</th>\n",
              "      <th>Width</th>\n",
              "      <th>Asymmetry</th>\n",
              "      <th>Groove</th>\n",
              "      <th>Class</th>\n",
              "    </tr>\n",
              "  </thead>\n",
              "  <tbody>\n",
              "    <tr>\n",
              "      <th>0</th>\n",
              "      <td>15.26</td>\n",
              "      <td>14.84</td>\n",
              "      <td>0.8710</td>\n",
              "      <td>5.763</td>\n",
              "      <td>3.312</td>\n",
              "      <td>2.221</td>\n",
              "      <td>5.220</td>\n",
              "      <td>1</td>\n",
              "    </tr>\n",
              "    <tr>\n",
              "      <th>1</th>\n",
              "      <td>14.88</td>\n",
              "      <td>14.57</td>\n",
              "      <td>0.8811</td>\n",
              "      <td>5.554</td>\n",
              "      <td>3.333</td>\n",
              "      <td>1.018</td>\n",
              "      <td>4.956</td>\n",
              "      <td>1</td>\n",
              "    </tr>\n",
              "    <tr>\n",
              "      <th>2</th>\n",
              "      <td>14.29</td>\n",
              "      <td>14.09</td>\n",
              "      <td>0.9050</td>\n",
              "      <td>5.291</td>\n",
              "      <td>3.337</td>\n",
              "      <td>2.699</td>\n",
              "      <td>4.825</td>\n",
              "      <td>1</td>\n",
              "    </tr>\n",
              "    <tr>\n",
              "      <th>3</th>\n",
              "      <td>13.84</td>\n",
              "      <td>13.94</td>\n",
              "      <td>0.8955</td>\n",
              "      <td>5.324</td>\n",
              "      <td>3.379</td>\n",
              "      <td>2.259</td>\n",
              "      <td>4.805</td>\n",
              "      <td>1</td>\n",
              "    </tr>\n",
              "    <tr>\n",
              "      <th>4</th>\n",
              "      <td>16.14</td>\n",
              "      <td>14.99</td>\n",
              "      <td>0.9034</td>\n",
              "      <td>5.658</td>\n",
              "      <td>3.562</td>\n",
              "      <td>1.355</td>\n",
              "      <td>5.175</td>\n",
              "      <td>1</td>\n",
              "    </tr>\n",
              "  </tbody>\n",
              "</table>\n",
              "</div>\n",
              "      <button class=\"colab-df-convert\" onclick=\"convertToInteractive('df-a90d2682-aca6-4a6d-a7a6-e1154f450a27')\"\n",
              "              title=\"Convert this dataframe to an interactive table.\"\n",
              "              style=\"display:none;\">\n",
              "        \n",
              "  <svg xmlns=\"http://www.w3.org/2000/svg\" height=\"24px\"viewBox=\"0 0 24 24\"\n",
              "       width=\"24px\">\n",
              "    <path d=\"M0 0h24v24H0V0z\" fill=\"none\"/>\n",
              "    <path d=\"M18.56 5.44l.94 2.06.94-2.06 2.06-.94-2.06-.94-.94-2.06-.94 2.06-2.06.94zm-11 1L8.5 8.5l.94-2.06 2.06-.94-2.06-.94L8.5 2.5l-.94 2.06-2.06.94zm10 10l.94 2.06.94-2.06 2.06-.94-2.06-.94-.94-2.06-.94 2.06-2.06.94z\"/><path d=\"M17.41 7.96l-1.37-1.37c-.4-.4-.92-.59-1.43-.59-.52 0-1.04.2-1.43.59L10.3 9.45l-7.72 7.72c-.78.78-.78 2.05 0 2.83L4 21.41c.39.39.9.59 1.41.59.51 0 1.02-.2 1.41-.59l7.78-7.78 2.81-2.81c.8-.78.8-2.07 0-2.86zM5.41 20L4 18.59l7.72-7.72 1.47 1.35L5.41 20z\"/>\n",
              "  </svg>\n",
              "      </button>\n",
              "      \n",
              "  <style>\n",
              "    .colab-df-container {\n",
              "      display:flex;\n",
              "      flex-wrap:wrap;\n",
              "      gap: 12px;\n",
              "    }\n",
              "\n",
              "    .colab-df-convert {\n",
              "      background-color: #E8F0FE;\n",
              "      border: none;\n",
              "      border-radius: 50%;\n",
              "      cursor: pointer;\n",
              "      display: none;\n",
              "      fill: #1967D2;\n",
              "      height: 32px;\n",
              "      padding: 0 0 0 0;\n",
              "      width: 32px;\n",
              "    }\n",
              "\n",
              "    .colab-df-convert:hover {\n",
              "      background-color: #E2EBFA;\n",
              "      box-shadow: 0px 1px 2px rgba(60, 64, 67, 0.3), 0px 1px 3px 1px rgba(60, 64, 67, 0.15);\n",
              "      fill: #174EA6;\n",
              "    }\n",
              "\n",
              "    [theme=dark] .colab-df-convert {\n",
              "      background-color: #3B4455;\n",
              "      fill: #D2E3FC;\n",
              "    }\n",
              "\n",
              "    [theme=dark] .colab-df-convert:hover {\n",
              "      background-color: #434B5C;\n",
              "      box-shadow: 0px 1px 3px 1px rgba(0, 0, 0, 0.15);\n",
              "      filter: drop-shadow(0px 1px 2px rgba(0, 0, 0, 0.3));\n",
              "      fill: #FFFFFF;\n",
              "    }\n",
              "  </style>\n",
              "\n",
              "      <script>\n",
              "        const buttonEl =\n",
              "          document.querySelector('#df-a90d2682-aca6-4a6d-a7a6-e1154f450a27 button.colab-df-convert');\n",
              "        buttonEl.style.display =\n",
              "          google.colab.kernel.accessAllowed ? 'block' : 'none';\n",
              "\n",
              "        async function convertToInteractive(key) {\n",
              "          const element = document.querySelector('#df-a90d2682-aca6-4a6d-a7a6-e1154f450a27');\n",
              "          const dataTable =\n",
              "            await google.colab.kernel.invokeFunction('convertToInteractive',\n",
              "                                                     [key], {});\n",
              "          if (!dataTable) return;\n",
              "\n",
              "          const docLinkHtml = 'Like what you see? Visit the ' +\n",
              "            '<a target=\"_blank\" href=https://colab.research.google.com/notebooks/data_table.ipynb>data table notebook</a>'\n",
              "            + ' to learn more about interactive tables.';\n",
              "          element.innerHTML = '';\n",
              "          dataTable['output_type'] = 'display_data';\n",
              "          await google.colab.output.renderOutput(dataTable, element);\n",
              "          const docLink = document.createElement('div');\n",
              "          docLink.innerHTML = docLinkHtml;\n",
              "          element.appendChild(docLink);\n",
              "        }\n",
              "      </script>\n",
              "    </div>\n",
              "  </div>\n",
              "  "
            ]
          },
          "metadata": {},
          "execution_count": 25
        }
      ]
    },
    {
      "cell_type": "code",
      "source": [
        "data=np.loadtxt(\"seeds_dataset.txt\")\n",
        "print(data)"
      ],
      "metadata": {
        "colab": {
          "base_uri": "https://localhost:8080/",
          "height": 0
        },
        "id": "J8QVaJ2zlskZ",
        "outputId": "64b12433-aa68-4621-9c30-de5192041e5a"
      },
      "execution_count": 26,
      "outputs": [
        {
          "output_type": "stream",
          "name": "stdout",
          "text": [
            "[[15.26   14.84    0.871  ...  2.221   5.22    1.    ]\n",
            " [14.88   14.57    0.8811 ...  1.018   4.956   1.    ]\n",
            " [14.29   14.09    0.905  ...  2.699   4.825   1.    ]\n",
            " ...\n",
            " [13.2    13.66    0.8883 ...  8.315   5.056   3.    ]\n",
            " [11.84   13.21    0.8521 ...  3.598   5.044   3.    ]\n",
            " [12.3    13.34    0.8684 ...  5.637   5.063   3.    ]]\n"
          ]
        }
      ]
    },
    {
      "cell_type": "code",
      "source": [
        "feature_cols = list(headings[: headings.index(\"Groove\") + 1])\n",
        "X = df.loc[:, feature_cols]\n",
        "X.shape\n",
        "y = df.Class\n",
        "y.shape\n",
        "print('Class labels:', np.unique(y))"
      ],
      "metadata": {
        "colab": {
          "base_uri": "https://localhost:8080/",
          "height": 0
        },
        "id": "K5s2gwxb1-oo",
        "outputId": "e87838b6-2ece-4190-aa30-8fc02149cdc1"
      },
      "execution_count": 7,
      "outputs": [
        {
          "output_type": "stream",
          "name": "stdout",
          "text": [
            "Class labels: [1 2 3]\n"
          ]
        }
      ]
    },
    {
      "cell_type": "code",
      "source": [
        "# Splitting data into 70% training and 30% test data:\n",
        "X_train, X_test, y_train, y_test = train_test_split(\n",
        "    X, y, test_size=0.3, random_state=1, stratify=y)\n",
        "\n",
        "print('Labels counts in y:', np.bincount(y))\n",
        "print('Labels counts in y_train:', np.bincount(y_train))\n",
        "print('Labels counts in y_test:', np.bincount(y_test))"
      ],
      "metadata": {
        "colab": {
          "base_uri": "https://localhost:8080/",
          "height": 0
        },
        "id": "-vp2qHyB4wa8",
        "outputId": "84b3ec72-c759-412f-f552-1ead2c58ce7a"
      },
      "execution_count": 27,
      "outputs": [
        {
          "output_type": "stream",
          "name": "stdout",
          "text": [
            "Labels counts in y: [ 0 70 70 70]\n",
            "Labels counts in y_train: [ 0 49 49 49]\n",
            "Labels counts in y_test: [ 0 21 21 21]\n"
          ]
        }
      ]
    },
    {
      "cell_type": "code",
      "source": [
        "# Standardizing the features:\n",
        "sc = StandardScaler()\n",
        "sc.fit(X_train)\n",
        "X_train_std = sc.transform(X_train)\n",
        "X_test_std = sc.transform(X_test)"
      ],
      "metadata": {
        "id": "rxszCjsd5D88"
      },
      "execution_count": 28,
      "outputs": []
    },
    {
      "cell_type": "code",
      "source": [
        "from matplotlib.colors import ListedColormap\n",
        "import matplotlib.pyplot as plt\n",
        "\n",
        "# To check recent matplotlib compatibility\n",
        "import matplotlib\n",
        "from distutils.version import LooseVersion\n",
        "\n",
        "\n",
        "def plot_decision_regions(X, y, classifier=DecisionTreeClassifier(), test_idx=None, resolution=0.02):\n",
        "\n",
        "    # setup marker generator and color map\n",
        "    markers = ('o', 's', '^', 'v', '<')\n",
        "    colors = ('red', 'blue', 'lightgreen', 'gray', 'cyan')\n",
        "    cmap = ListedColormap(colors[:len(np.unique(y))])\n",
        "\n",
        "    # plot the decision surface\n",
        "    x1_min, x1_max = X[:, 0].min() - 1, X[:, 0].max() + 1\n",
        "    x2_min, x2_max = X[:, 1].min() - 1, X[:, 1].max() + 1\n",
        "    xx1, xx2 = np.meshgrid(np.arange(x1_min, x1_max, resolution),\n",
        "                           np.arange(x2_min, x2_max, resolution))\n",
        "    lab = classifier.predict(np.array([xx1.ravel(), xx2.ravel()]).T)\n",
        "    lab = lab.reshape(xx1.shape)\n",
        "    plt.contourf(xx1, xx2, lab, alpha=0.3, cmap=cmap)\n",
        "    plt.xlim(xx1.min(), xx1.max())\n",
        "    plt.ylim(xx2.min(), xx2.max())\n",
        "\n",
        "    # plot class examples\n",
        "    for idx, cl in enumerate(np.unique(y)):\n",
        "        plt.scatter(x=X[y == cl, 0], \n",
        "                    y=X[y == cl, 1],\n",
        "                    alpha=0.8, \n",
        "                    c=colors[idx],\n",
        "                    marker=markers[idx], \n",
        "                    label=f'Class {cl}', \n",
        "                    edgecolor='black')\n",
        "\n",
        "    # highlight test examples\n",
        "    if test_idx:\n",
        "        # plot all examples\n",
        "        X_test, y_test = X[test_idx, :], y[test_idx]\n",
        "\n",
        "        plt.scatter(X_test[:, 0],\n",
        "                    X_test[:, 1],\n",
        "                    c='none',\n",
        "                    edgecolor='black',\n",
        "                    alpha=1.0,\n",
        "                    linewidth=1,\n",
        "                    marker='o',\n",
        "                    s=100, \n",
        "                    label='Test set')    "
      ],
      "metadata": {
        "id": "oolb0eLir8k3"
      },
      "execution_count": 29,
      "outputs": []
    },
    {
      "cell_type": "markdown",
      "source": [
        "Classifications\n",
        "\n",
        "Percepton"
      ],
      "metadata": {
        "id": "L-BQr6YpR7WN"
      }
    },
    {
      "cell_type": "code",
      "source": [
        "classification_1 = headings[4]\n",
        "classification_2 = headings[5]\n",
        "ppn = Perceptron(eta0=0.1, random_state=1)\n",
        "ppn.fit(X_train.loc[:, [classification_1, classification_2]], y_train)\n",
        "y_pred = ppn.predict(X_test.loc[:, [classification_1, classification_2]])\n",
        "print('Misclassified examples: %d' % (y_test != y_pred).sum())\n",
        "print('Accuracy: %.3f' % accuracy_score(y_test, y_pred))\n",
        "\n",
        "print('Predicted:', y_pred)\n",
        "print('True class:', np.array(y_test))\n",
        "\n",
        "\n",
        "plot_decision_regions(X.loc[:,[classification_1, classification_2]].to_numpy(),\n",
        "                      y, classifier=ppn)\n",
        "\n",
        "plt.xlabel(classification_1)\n",
        "plt.ylabel(classification_2)\n",
        "plt.legend(loc='upper left')\n",
        "plt.tight_layout()\n",
        "plt.show()"
      ],
      "metadata": {
        "colab": {
          "base_uri": "https://localhost:8080/",
          "height": 456
        },
        "id": "FZtBDp5M5Lqd",
        "outputId": "21684e34-bc6c-4409-cb50-68be4dc79a6a"
      },
      "execution_count": 11,
      "outputs": [
        {
          "output_type": "stream",
          "name": "stdout",
          "text": [
            "Misclassified examples: 16\n",
            "Accuracy: 0.746\n",
            "Predicted: [3 3 2 3 2 2 3 3 3 2 3 3 2 3 1 3 3 3 3 1 3 3 1 3 2 2 1 2 3 1 1 1 3 3 2 3 3\n",
            " 3 3 1 1 3 3 2 3 2 1 2 3 1 3 1 1 3 2 3 3 2 3 1 1 3 1]\n",
            "True class: [3 2 2 2 2 2 1 3 3 2 1 3 2 3 1 1 3 1 3 1 1 1 1 3 2 2 1 2 3 1 1 2 2 1 2 3 3\n",
            " 3 2 1 1 3 2 1 3 2 1 2 3 1 3 1 1 3 2 3 3 2 3 2 1 3 2]\n"
          ]
        },
        {
          "output_type": "stream",
          "name": "stderr",
          "text": [
            "/usr/local/lib/python3.8/dist-packages/sklearn/base.py:450: UserWarning: X does not have valid feature names, but Perceptron was fitted with feature names\n",
            "  warnings.warn(\n"
          ]
        },
        {
          "output_type": "display_data",
          "data": {
            "text/plain": [
              "<Figure size 432x288 with 1 Axes>"
            ],
            "image/png": "[encoded data removed]"
          },
          "metadata": {
            "needs_background": "light"
          }
        }
      ]
    },
    {
      "cell_type": "markdown",
      "source": [
        "DecisionTreeClassifier"
      ],
      "metadata": {
        "id": "0C4FlgTPTQdu"
      }
    },
    {
      "cell_type": "code",
      "source": [
        "classification_1= headings[4]\n",
        "classification_2= headings[5]\n",
        "clf = DecisionTreeClassifier(criterion='entropy', max_depth=4, \n",
        "                                    random_state=1)\n",
        "clf.fit(X_train.loc[:,[classification_1, classification_2]],\n",
        "         y_train)\n",
        "\n",
        "y_pred = clf.predict(X_test.loc[:, [classification_1, classification_2]])\n",
        "print('Predicted:', y_pred)\n",
        "print('True class:', np.array(y_test))\n",
        "\n",
        "accuracy = accuracy_score(y_test, y_pred)\n",
        "print('Accuracy:', accuracy)\n",
        "plot_decision_regions(X.loc[:,[classification_1, classification_2]].to_numpy(),\n",
        "                      y, classifier=clf)\n",
        "\n",
        "plt.xlabel(classification_1)\n",
        "plt.ylabel(classification_2)\n",
        "plt.legend(loc='upper left')\n",
        "plt.tight_layout()\n",
        "plt.show()"
      ],
      "metadata": {
        "colab": {
          "base_uri": "https://localhost:8080/",
          "height": 439
        },
        "id": "FMWJvY40Y-Yw",
        "outputId": "fd5bfb60-e956-46de-e397-79d7f2d83eef"
      },
      "execution_count": 12,
      "outputs": [
        {
          "output_type": "stream",
          "name": "stdout",
          "text": [
            "Predicted: [3 2 2 2 2 2 1 1 3 2 1 3 2 3 1 1 3 1 3 1 1 1 1 1 2 2 1 2 3 1 1 1 2 1 2 3 3\n",
            " 3 1 1 1 3 2 2 3 2 1 2 3 1 3 1 1 1 2 3 3 1 3 1 1 1 1]\n",
            "True class: [3 2 2 2 2 2 1 3 3 2 1 3 2 3 1 1 3 1 3 1 1 1 1 3 2 2 1 2 3 1 1 2 2 1 2 3 3\n",
            " 3 2 1 1 3 2 1 3 2 1 2 3 1 3 1 1 3 2 3 3 2 3 2 1 3 2]\n",
            "Accuracy: 0.8412698412698413\n"
          ]
        },
        {
          "output_type": "stream",
          "name": "stderr",
          "text": [
            "/usr/local/lib/python3.8/dist-packages/sklearn/base.py:450: UserWarning: X does not have valid feature names, but DecisionTreeClassifier was fitted with feature names\n",
            "  warnings.warn(\n"
          ]
        },
        {
          "output_type": "display_data",
          "data": {
            "text/plain": [
              "<Figure size 432x288 with 1 Axes>"
            ],
            "image/png": "[encoded data removed]"
          },
          "metadata": {
            "needs_background": "light"
          }
        }
      ]
    },
    {
      "cell_type": "markdown",
      "source": [
        "LogisticRegression"
      ],
      "metadata": {
        "id": "BE-Eunr4TZXU"
      }
    },
    {
      "cell_type": "code",
      "source": [
        "classification_1= headings[4]\n",
        "classification_2= headings[5]\n",
        "\n",
        "lr = LogisticRegression()\n",
        "lr.fit(X_train.loc[:,[classification_1, classification_2]],\n",
        "       y_train)\n",
        "\n",
        "y_predict = lr.predict(X_test.loc[:, [classification_1, classification_2]])\n",
        "print('Predicted:', y_predict)\n",
        "print('True class:', np.array(y_test))\n",
        "\n",
        "print('\\nAccuracy:', accuracy_score(y_test, y_predict))\n",
        "\n",
        "\n",
        "plot_decision_regions(X.loc[:,[classification_1, classification_2]].to_numpy(),\n",
        "                      y, classifier=lr)\n",
        "\n",
        "plt.xlabel(classification_1)\n",
        "plt.ylabel(classification_2)\n",
        "plt.legend(loc='upper left')\n",
        "plt.tight_layout()\n",
        "plt.show()"
      ],
      "metadata": {
        "colab": {
          "base_uri": "https://localhost:8080/",
          "height": 456
        },
        "id": "g9JaFp0DuDfX",
        "outputId": "5e5f8134-685f-484e-d45c-6f7529f00c63"
      },
      "execution_count": 13,
      "outputs": [
        {
          "output_type": "stream",
          "name": "stdout",
          "text": [
            "Predicted: [3 2 2 2 2 2 1 3 3 2 1 3 2 3 1 2 3 1 3 1 3 3 1 3 2 2 1 2 3 1 1 1 2 1 2 3 3\n",
            " 3 3 1 1 3 2 2 3 2 1 2 3 1 3 1 1 3 2 3 3 2 3 1 1 3 1]\n",
            "True class: [3 2 2 2 2 2 1 3 3 2 1 3 2 3 1 1 3 1 3 1 1 1 1 3 2 2 1 2 3 1 1 2 2 1 2 3 3\n",
            " 3 2 1 1 3 2 1 3 2 1 2 3 1 3 1 1 3 2 3 3 2 3 2 1 3 2]\n",
            "\n",
            "Accuracy: 0.873015873015873\n"
          ]
        },
        {
          "output_type": "stream",
          "name": "stderr",
          "text": [
            "/usr/local/lib/python3.8/dist-packages/sklearn/base.py:450: UserWarning: X does not have valid feature names, but LogisticRegression was fitted with feature names\n",
            "  warnings.warn(\n"
          ]
        },
        {
          "output_type": "display_data",
          "data": {
            "text/plain": [
              "<Figure size 432x288 with 1 Axes>"
            ],
            "image/png": "[encoded data removed]"
          },
          "metadata": {
            "needs_background": "light"
          }
        }
      ]
    },
    {
      "cell_type": "markdown",
      "source": [
        "Kernel SVM"
      ],
      "metadata": {
        "id": "q6HvxJ2RThPs"
      }
    },
    {
      "cell_type": "code",
      "source": [
        "from sklearn.svm import SVC\n",
        "classification_1= headings[4]\n",
        "classification_2= headings[5]\n",
        "svm = SVC(kernel='linear', C=1.0, random_state=1)\n",
        "svm.fit(X_train.loc[:,[classification_1, classification_2]], y_train)\n",
        "y_predict = svm.predict(X_test.loc[:, [classification_1, classification_2]])\n",
        "print('Predicted:', y_predict)\n",
        "print('True class:', np.array(y_test))\n",
        "\n",
        "print('\\nAccuracy:', accuracy_score(y_test, y_predict))\n",
        "plot_decision_regions(X.loc[:,[classification_1, classification_2]].to_numpy(),\n",
        "                      y, classifier=svm)\n",
        "plt.xlabel(classification_1)\n",
        "plt.ylabel(classification_2)\n",
        "plt.legend(loc='upper left')\n",
        "plt.tight_layout()\n",
        "plt.show()"
      ],
      "metadata": {
        "colab": {
          "base_uri": "https://localhost:8080/",
          "height": 456
        },
        "id": "779V0NOj3UAO",
        "outputId": "adca1032-76e4-4aa2-d83d-3d78868bae2a"
      },
      "execution_count": 22,
      "outputs": [
        {
          "output_type": "stream",
          "name": "stdout",
          "text": [
            "Predicted: [3 2 2 2 2 2 1 3 3 2 1 3 2 3 1 2 3 1 3 1 1 3 1 3 2 2 1 2 3 1 1 1 2 1 2 3 3\n",
            " 3 1 1 1 3 2 2 3 2 1 2 3 1 3 1 1 3 2 3 3 2 3 1 1 3 1]\n",
            "True class: [3 2 2 2 2 2 1 3 3 2 1 3 2 3 1 1 3 1 3 1 1 1 1 3 2 2 1 2 3 1 1 2 2 1 2 3 3\n",
            " 3 2 1 1 3 2 1 3 2 1 2 3 1 3 1 1 3 2 3 3 2 3 2 1 3 2]\n",
            "\n",
            "Accuracy: 0.8888888888888888\n"
          ]
        },
        {
          "output_type": "stream",
          "name": "stderr",
          "text": [
            "/usr/local/lib/python3.8/dist-packages/sklearn/base.py:450: UserWarning: X does not have valid feature names, but SVC was fitted with feature names\n",
            "  warnings.warn(\n"
          ]
        },
        {
          "output_type": "display_data",
          "data": {
            "text/plain": [
              "<Figure size 432x288 with 1 Axes>"
            ],
            "image/png": "[encoded data removed]"
          },
          "metadata": {
            "needs_background": "light"
          }
        }
      ]
    }
  ]
}